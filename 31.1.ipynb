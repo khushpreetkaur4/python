{
 "cells": [
  {
   "cell_type": "code",
   "execution_count": 3,
   "id": "fc6941e3-9f86-4feb-b53c-1a4caa92b559",
   "metadata": {},
   "outputs": [],
   "source": [
    "#31jan"
   ]
  },
  {
   "cell_type": "code",
   "execution_count": null,
   "id": "dd661af9-788d-44ee-ae6c-ce67bdf999d7",
   "metadata": {},
   "outputs": [],
   "source": [
    "\"\"\" str,complex,float,int are primitive data types i.e which are also present in other prog lang.\n",
    "instead these we have other data types in python :\"\"\""
   ]
  },
  {
   "cell_type": "code",
   "execution_count": 5,
   "id": "501b0fc7-7a9a-4d8b-bf58-374312eae591",
   "metadata": {},
   "outputs": [],
   "source": [
    "#list\n",
    "l =[1,345,45,'sudh' ,True ,5+7j,345.456]"
   ]
  },
  {
   "cell_type": "code",
   "execution_count": 6,
   "id": "ec81cfb7-bab5-4385-af6d-49082caa98cb",
   "metadata": {},
   "outputs": [
    {
     "data": {
      "text/plain": [
       "list"
      ]
     },
     "execution_count": 6,
     "metadata": {},
     "output_type": "execute_result"
    }
   ],
   "source": [
    "type(l)"
   ]
  },
  {
   "cell_type": "code",
   "execution_count": 7,
   "id": "7aea46a7-8340-4f96-8313-90486d2a54b5",
   "metadata": {},
   "outputs": [
    {
     "ename": "TypeError",
     "evalue": "can only concatenate list (not \"str\") to list",
     "output_type": "error",
     "traceback": [
      "\u001b[0;31m---------------------------------------------------------------------------\u001b[0m",
      "\u001b[0;31mTypeError\u001b[0m                                 Traceback (most recent call last)",
      "Cell \u001b[0;32mIn [7], line 2\u001b[0m\n\u001b[1;32m      1\u001b[0m s\u001b[38;5;241m=\u001b[39m\u001b[38;5;124m'\u001b[39m\u001b[38;5;124mpwskills\u001b[39m\u001b[38;5;124m'\u001b[39m\n\u001b[0;32m----> 2\u001b[0m \u001b[43ml\u001b[49m\u001b[38;5;241;43m+\u001b[39;49m\u001b[43ms\u001b[49m\n",
      "\u001b[0;31mTypeError\u001b[0m: can only concatenate list (not \"str\") to list"
     ]
    }
   ],
   "source": [
    "s='pwskills'\n",
    "l+s"
   ]
  },
  {
   "cell_type": "code",
   "execution_count": 8,
   "id": "b9beae20-7670-4f9d-9721-21e83e579980",
   "metadata": {},
   "outputs": [
    {
     "data": {
      "text/plain": [
       "[1,\n",
       " 345,\n",
       " 45,\n",
       " 'sudh',\n",
       " True,\n",
       " (5+7j),\n",
       " 345.456,\n",
       " 'p',\n",
       " 'w',\n",
       " 's',\n",
       " 'k',\n",
       " 'i',\n",
       " 'l',\n",
       " 'l',\n",
       " 's']"
      ]
     },
     "execution_count": 8,
     "metadata": {},
     "output_type": "execute_result"
    }
   ],
   "source": [
    "#we cannnot concatenate str and list ...we can conactenate it by converting str into list \n",
    "l+list(s)"
   ]
  },
  {
   "cell_type": "code",
   "execution_count": 9,
   "id": "f2bea14d-ea31-4107-80d9-8ca19dc3affe",
   "metadata": {},
   "outputs": [
    {
     "data": {
      "text/plain": [
       "'sudh'"
      ]
     },
     "execution_count": 9,
     "metadata": {},
     "output_type": "execute_result"
    }
   ],
   "source": [
    "l[3]"
   ]
  },
  {
   "cell_type": "code",
   "execution_count": 10,
   "id": "1791dd3b-d6e1-4efb-86c8-80726e8fc7c4",
   "metadata": {},
   "outputs": [
    {
     "data": {
      "text/plain": [
       "'su'"
      ]
     },
     "execution_count": 10,
     "metadata": {},
     "output_type": "execute_result"
    }
   ],
   "source": [
    "l[3][0:2]"
   ]
  },
  {
   "cell_type": "code",
   "execution_count": 11,
   "id": "df81044c-75bd-4d8d-8dc5-e361cf924745",
   "metadata": {},
   "outputs": [
    {
     "ename": "TypeError",
     "evalue": "'bool' object is not subscriptable",
     "output_type": "error",
     "traceback": [
      "\u001b[0;31m---------------------------------------------------------------------------\u001b[0m",
      "\u001b[0;31mTypeError\u001b[0m                                 Traceback (most recent call last)",
      "Cell \u001b[0;32mIn [11], line 1\u001b[0m\n\u001b[0;32m----> 1\u001b[0m \u001b[43ml\u001b[49m\u001b[43m[\u001b[49m\u001b[38;5;241;43m4\u001b[39;49m\u001b[43m]\u001b[49m\u001b[43m[\u001b[49m\u001b[38;5;241;43m0\u001b[39;49m\u001b[43m:\u001b[49m\u001b[38;5;241;43m2\u001b[39;49m\u001b[43m]\u001b[49m\n",
      "\u001b[0;31mTypeError\u001b[0m: 'bool' object is not subscriptable"
     ]
    }
   ],
   "source": [
    "l[4][0:2]"
   ]
  },
  {
   "cell_type": "code",
   "execution_count": 12,
   "id": "adfdf086-081f-4276-8d4c-8a431873329a",
   "metadata": {},
   "outputs": [
    {
     "data": {
      "text/plain": [
       "'Tr'"
      ]
     },
     "execution_count": 12,
     "metadata": {},
     "output_type": "execute_result"
    }
   ],
   "source": [
    "str(l[4])[0:2]"
   ]
  },
  {
   "cell_type": "code",
   "execution_count": 13,
   "id": "72508462-70f6-4e13-a9d7-9bbcb8adf12c",
   "metadata": {},
   "outputs": [],
   "source": [
    "l =[1,345,45,'sudh' ,True ,5+7j,345.456]"
   ]
  },
  {
   "cell_type": "code",
   "execution_count": 14,
   "id": "9bd5b430-d386-4c61-8f3c-73113c2ef4c7",
   "metadata": {},
   "outputs": [],
   "source": [
    "l.append(5)"
   ]
  },
  {
   "cell_type": "code",
   "execution_count": 15,
   "id": "6c771a8f-c35c-42e7-bb22-4c22f32cd4e1",
   "metadata": {},
   "outputs": [
    {
     "data": {
      "text/plain": [
       "[1, 345, 45, 'sudh', True, (5+7j), 345.456, 5]"
      ]
     },
     "execution_count": 15,
     "metadata": {},
     "output_type": "execute_result"
    }
   ],
   "source": [
    "l"
   ]
  },
  {
   "cell_type": "code",
   "execution_count": 16,
   "id": "567992f5-372a-4243-856d-5fda74cf2d80",
   "metadata": {},
   "outputs": [],
   "source": [
    "s='pwskills'\n",
    "l.append(s)"
   ]
  },
  {
   "cell_type": "code",
   "execution_count": 17,
   "id": "cfaf9d91-9915-4eee-b811-7817232ff850",
   "metadata": {},
   "outputs": [
    {
     "data": {
      "text/plain": [
       "[1, 345, 45, 'sudh', True, (5+7j), 345.456, 5, 'pwskills']"
      ]
     },
     "execution_count": 17,
     "metadata": {},
     "output_type": "execute_result"
    }
   ],
   "source": [
    "l"
   ]
  },
  {
   "cell_type": "code",
   "execution_count": 18,
   "id": "d89161e9-df7f-4990-bd9b-d542d013d7e2",
   "metadata": {},
   "outputs": [],
   "source": [
    "#extend func. break all the elements of iterable and then add it \n",
    "l.extend(s)"
   ]
  },
  {
   "cell_type": "code",
   "execution_count": 19,
   "id": "0da64b7e-b0d2-4531-908c-c7d258f30a73",
   "metadata": {},
   "outputs": [
    {
     "data": {
      "text/plain": [
       "[1,\n",
       " 345,\n",
       " 45,\n",
       " 'sudh',\n",
       " True,\n",
       " (5+7j),\n",
       " 345.456,\n",
       " 5,\n",
       " 'pwskills',\n",
       " 'p',\n",
       " 'w',\n",
       " 's',\n",
       " 'k',\n",
       " 'i',\n",
       " 'l',\n",
       " 'l',\n",
       " 's']"
      ]
     },
     "execution_count": 19,
     "metadata": {},
     "output_type": "execute_result"
    }
   ],
   "source": [
    "l"
   ]
  },
  {
   "cell_type": "code",
   "execution_count": 20,
   "id": "381ed46a-c468-4a95-8892-b602cae8a06b",
   "metadata": {},
   "outputs": [
    {
     "ename": "TypeError",
     "evalue": "'int' object is not iterable",
     "output_type": "error",
     "traceback": [
      "\u001b[0;31m---------------------------------------------------------------------------\u001b[0m",
      "\u001b[0;31mTypeError\u001b[0m                                 Traceback (most recent call last)",
      "Cell \u001b[0;32mIn [20], line 1\u001b[0m\n\u001b[0;32m----> 1\u001b[0m \u001b[43ml\u001b[49m\u001b[38;5;241;43m.\u001b[39;49m\u001b[43mextend\u001b[49m\u001b[43m(\u001b[49m\u001b[38;5;241;43m6\u001b[39;49m\u001b[43m)\u001b[49m\n",
      "\u001b[0;31mTypeError\u001b[0m: 'int' object is not iterable"
     ]
    }
   ],
   "source": [
    "l.extend(6)\n",
    "#as 6 is int nd int is not iterable so extend func. doesnt able to store it in list "
   ]
  },
  {
   "cell_type": "code",
   "execution_count": null,
   "id": "9c4f616c-549c-4b61-a464-7f04ce68f02e",
   "metadata": {},
   "outputs": [],
   "source": [
    "'''therefore, append func try to add data in already existing data in last position whereas extend func first enrack the data then add it \n",
    "to the last position\n",
    "to insert data at the first position of already exisisting data there is insert func.\n",
    "example:"
   ]
  },
  {
   "cell_type": "code",
   "execution_count": 27,
   "id": "8b411aa2-ec98-4338-802e-6ae38096c0c9",
   "metadata": {},
   "outputs": [],
   "source": [
    "l.insert(0,'khushi')"
   ]
  },
  {
   "cell_type": "code",
   "execution_count": 28,
   "id": "53fd4d09-3906-4811-a33b-97fbc00396f6",
   "metadata": {},
   "outputs": [
    {
     "data": {
      "text/plain": [
       "['khushi',\n",
       " 'sudh',\n",
       " 1,\n",
       " 'sudh',\n",
       " 345,\n",
       " 45,\n",
       " 'sudh',\n",
       " True,\n",
       " (5+7j),\n",
       " 345.456,\n",
       " 5,\n",
       " 'pwskills',\n",
       " 'p',\n",
       " 'w',\n",
       " 's',\n",
       " 'k',\n",
       " 'i',\n",
       " 'l',\n",
       " 'l',\n",
       " 's']"
      ]
     },
     "execution_count": 28,
     "metadata": {},
     "output_type": "execute_result"
    }
   ],
   "source": [
    "l"
   ]
  },
  {
   "cell_type": "code",
   "execution_count": 29,
   "id": "a0a33616-d6ba-4242-87b4-fa12d7cde2fc",
   "metadata": {},
   "outputs": [
    {
     "data": {
      "text/plain": [
       "'s'"
      ]
     },
     "execution_count": 29,
     "metadata": {},
     "output_type": "execute_result"
    }
   ],
   "source": [
    "l.pop()"
   ]
  },
  {
   "cell_type": "code",
   "execution_count": 30,
   "id": "5d98b2c3-d409-4033-97fb-a519eff53380",
   "metadata": {},
   "outputs": [
    {
     "data": {
      "text/plain": [
       "'sudh'"
      ]
     },
     "execution_count": 30,
     "metadata": {},
     "output_type": "execute_result"
    }
   ],
   "source": [
    "l.pop(3)"
   ]
  },
  {
   "cell_type": "code",
   "execution_count": 31,
   "id": "faedb490-7a6e-4f72-8902-8833d72440a6",
   "metadata": {},
   "outputs": [
    {
     "data": {
      "text/plain": [
       "['khushi',\n",
       " 'sudh',\n",
       " 1,\n",
       " 345,\n",
       " 45,\n",
       " 'sudh',\n",
       " True,\n",
       " (5+7j),\n",
       " 345.456,\n",
       " 5,\n",
       " 'pwskills',\n",
       " 'p',\n",
       " 'w',\n",
       " 's',\n",
       " 'k',\n",
       " 'i',\n",
       " 'l',\n",
       " 'l']"
      ]
     },
     "execution_count": 31,
     "metadata": {},
     "output_type": "execute_result"
    }
   ],
   "source": [
    "l"
   ]
  },
  {
   "cell_type": "code",
   "execution_count": 36,
   "id": "941860e9-d035-48ed-a659-a68c9fa6f97b",
   "metadata": {},
   "outputs": [],
   "source": [
    "l.insert(6,45)"
   ]
  },
  {
   "cell_type": "code",
   "execution_count": 37,
   "id": "dfd2037d-9092-4658-b863-620d58d95afd",
   "metadata": {},
   "outputs": [
    {
     "data": {
      "text/plain": [
       "['khushi',\n",
       " 'sudh',\n",
       " 1,\n",
       " 345,\n",
       " 45,\n",
       " 'sudh',\n",
       " 45,\n",
       " True,\n",
       " (5+7j),\n",
       " 345.456,\n",
       " 5,\n",
       " 'pwskills',\n",
       " 'p',\n",
       " 'w',\n",
       " 's',\n",
       " 'k',\n",
       " 'i']"
      ]
     },
     "execution_count": 37,
     "metadata": {},
     "output_type": "execute_result"
    }
   ],
   "source": [
    "l"
   ]
  },
  {
   "cell_type": "code",
   "execution_count": 38,
   "id": "2fd522f8-827d-4bf4-9223-81805a293ede",
   "metadata": {},
   "outputs": [],
   "source": [
    "l.remove(45)\n",
    "#remove func removers the first occurence of the value inside the brackets.whereas pop func removers the value acc,. to the index i.e removes index present inside the brackets"
   ]
  },
  {
   "cell_type": "code",
   "execution_count": 39,
   "id": "d87549a0-cea2-415b-9c7e-3f22c1212345",
   "metadata": {},
   "outputs": [
    {
     "data": {
      "text/plain": [
       "['khushi',\n",
       " 'sudh',\n",
       " 1,\n",
       " 345,\n",
       " 'sudh',\n",
       " 45,\n",
       " True,\n",
       " (5+7j),\n",
       " 345.456,\n",
       " 5,\n",
       " 'pwskills',\n",
       " 'p',\n",
       " 'w',\n",
       " 's',\n",
       " 'k',\n",
       " 'i']"
      ]
     },
     "execution_count": 39,
     "metadata": {},
     "output_type": "execute_result"
    }
   ],
   "source": [
    "l"
   ]
  },
  {
   "cell_type": "code",
   "execution_count": 42,
   "id": "7cc4013f-9925-4211-bdb9-d8e01688b2c9",
   "metadata": {},
   "outputs": [],
   "source": [
    "l.append([4,5,6])"
   ]
  },
  {
   "cell_type": "code",
   "execution_count": 43,
   "id": "25fcd47d-d96a-4319-92ed-5819244cc72d",
   "metadata": {},
   "outputs": [
    {
     "data": {
      "text/plain": [
       "['khushi',\n",
       " 'sudh',\n",
       " 1,\n",
       " 345,\n",
       " 'sudh',\n",
       " 45,\n",
       " True,\n",
       " (5+7j),\n",
       " 345.456,\n",
       " 5,\n",
       " 'pwskills',\n",
       " 'p',\n",
       " 'w',\n",
       " 's',\n",
       " 'k',\n",
       " 'i',\n",
       " [4, 5, 6],\n",
       " [4, 5, 6]]"
      ]
     },
     "execution_count": 43,
     "metadata": {},
     "output_type": "execute_result"
    }
   ],
   "source": [
    "l"
   ]
  },
  {
   "cell_type": "code",
   "execution_count": 44,
   "id": "04003d6a-32b3-40bb-9c2a-661a86f9325a",
   "metadata": {},
   "outputs": [
    {
     "data": {
      "text/plain": [
       "[4, 5, 6]"
      ]
     },
     "execution_count": 44,
     "metadata": {},
     "output_type": "execute_result"
    }
   ],
   "source": [
    "# to remove 5 from list within the list \n",
    "l[-1]"
   ]
  },
  {
   "cell_type": "code",
   "execution_count": 45,
   "id": "72af7cfa-c604-4d21-9dd9-bd42d57c2919",
   "metadata": {},
   "outputs": [],
   "source": [
    "l[-1].remove(5)"
   ]
  },
  {
   "cell_type": "code",
   "execution_count": 46,
   "id": "b19f0f2d-814d-43e5-bf07-dd45580ce966",
   "metadata": {},
   "outputs": [
    {
     "data": {
      "text/plain": [
       "['khushi',\n",
       " 'sudh',\n",
       " 1,\n",
       " 345,\n",
       " 'sudh',\n",
       " 45,\n",
       " True,\n",
       " (5+7j),\n",
       " 345.456,\n",
       " 5,\n",
       " 'pwskills',\n",
       " 'p',\n",
       " 'w',\n",
       " 's',\n",
       " 'k',\n",
       " 'i',\n",
       " [4, 5, 6],\n",
       " [4, 6]]"
      ]
     },
     "execution_count": 46,
     "metadata": {},
     "output_type": "execute_result"
    }
   ],
   "source": [
    "l"
   ]
  },
  {
   "cell_type": "code",
   "execution_count": 47,
   "id": "e5412565-1762-455c-8979-aafa5da48245",
   "metadata": {},
   "outputs": [],
   "source": [
    "l.reverse()\n",
    "#it reverse the list or data permanentaly"
   ]
  },
  {
   "cell_type": "code",
   "execution_count": 48,
   "id": "fea64e59-64a5-477c-90db-97f6fae66170",
   "metadata": {},
   "outputs": [
    {
     "data": {
      "text/plain": [
       "[[4, 6],\n",
       " [4, 5, 6],\n",
       " 'i',\n",
       " 'k',\n",
       " 's',\n",
       " 'w',\n",
       " 'p',\n",
       " 'pwskills',\n",
       " 5,\n",
       " 345.456,\n",
       " (5+7j),\n",
       " True,\n",
       " 45,\n",
       " 'sudh',\n",
       " 345,\n",
       " 1,\n",
       " 'sudh',\n",
       " 'khushi']"
      ]
     },
     "execution_count": 48,
     "metadata": {},
     "output_type": "execute_result"
    }
   ],
   "source": [
    "l"
   ]
  },
  {
   "cell_type": "code",
   "execution_count": 49,
   "id": "d96e5b71-72cf-410c-95c6-cea7a60a6505",
   "metadata": {},
   "outputs": [],
   "source": [
    "l2=[2,4,5,0,9,7,6,10,3]\n",
    "l2.sort()"
   ]
  },
  {
   "cell_type": "code",
   "execution_count": 50,
   "id": "95bb1018-5377-464f-a27a-8ee53c4023c2",
   "metadata": {},
   "outputs": [
    {
     "data": {
      "text/plain": [
       "[0, 2, 3, 4, 5, 6, 7, 9, 10]"
      ]
     },
     "execution_count": 50,
     "metadata": {},
     "output_type": "execute_result"
    }
   ],
   "source": [
    "l2"
   ]
  },
  {
   "cell_type": "code",
   "execution_count": 54,
   "id": "efabc875-b17e-4707-b60c-1c0cc7325b44",
   "metadata": {},
   "outputs": [
    {
     "ename": "TypeError",
     "evalue": "'<' not supported between instances of 'str' and 'list'",
     "output_type": "error",
     "traceback": [
      "\u001b[0;31m---------------------------------------------------------------------------\u001b[0m",
      "\u001b[0;31mTypeError\u001b[0m                                 Traceback (most recent call last)",
      "Cell \u001b[0;32mIn [54], line 3\u001b[0m\n\u001b[1;32m      1\u001b[0m \u001b[38;5;66;03m# as l list consist of different data types in a list ..due to which comparisons betwwn the elements are not possible\u001b[39;00m\n\u001b[1;32m      2\u001b[0m \u001b[38;5;66;03m#so no sorting is possinble in this case\u001b[39;00m\n\u001b[0;32m----> 3\u001b[0m \u001b[43ml\u001b[49m\u001b[38;5;241;43m.\u001b[39;49m\u001b[43msort\u001b[49m\u001b[43m(\u001b[49m\u001b[43m)\u001b[49m\n",
      "\u001b[0;31mTypeError\u001b[0m: '<' not supported between instances of 'str' and 'list'"
     ]
    }
   ],
   "source": [
    "# as l list consist of different data types in a list ..due to which comparisons betwwn the elements are not possible\n",
    "#so no sorting is possinble in this case\n",
    "l.sort()"
   ]
  },
  {
   "cell_type": "code",
   "execution_count": 57,
   "id": "c85ffbae-bd4c-4442-87fd-3a6215ca2d4b",
   "metadata": {},
   "outputs": [],
   "source": [
    "# for sorting in desecending order\n",
    "\n",
    "l2.sort(reverse=True)"
   ]
  },
  {
   "cell_type": "code",
   "execution_count": 58,
   "id": "5e9765ce-e94c-4f12-a7fe-cf7380773205",
   "metadata": {},
   "outputs": [
    {
     "data": {
      "text/plain": [
       "[10, 9, 7, 6, 5, 4, 3, 2, 0]"
      ]
     },
     "execution_count": 58,
     "metadata": {},
     "output_type": "execute_result"
    }
   ],
   "source": [
    "l2"
   ]
  },
  {
   "cell_type": "code",
   "execution_count": 59,
   "id": "08047101-4dca-4c6b-a098-1a80ee985a97",
   "metadata": {},
   "outputs": [],
   "source": [
    "l3=[2,3,4]\n",
    "l3[0]=20"
   ]
  },
  {
   "cell_type": "code",
   "execution_count": 60,
   "id": "4011b043-4f9b-4878-9b54-9f3eb2d483a7",
   "metadata": {},
   "outputs": [
    {
     "data": {
      "text/plain": [
       "[20, 3, 4]"
      ]
     },
     "execution_count": 60,
     "metadata": {},
     "output_type": "execute_result"
    }
   ],
   "source": [
    "l3"
   ]
  },
  {
   "cell_type": "code",
   "execution_count": 61,
   "id": "5a05b2c6-f3a6-482f-a814-118f92401354",
   "metadata": {},
   "outputs": [
    {
     "ename": "TypeError",
     "evalue": "'str' object does not support item assignment",
     "output_type": "error",
     "traceback": [
      "\u001b[0;31m---------------------------------------------------------------------------\u001b[0m",
      "\u001b[0;31mTypeError\u001b[0m                                 Traceback (most recent call last)",
      "Cell \u001b[0;32mIn [61], line 2\u001b[0m\n\u001b[1;32m      1\u001b[0m s\u001b[38;5;241m=\u001b[39m\u001b[38;5;124m'\u001b[39m\u001b[38;5;124msudh\u001b[39m\u001b[38;5;124m'\u001b[39m\n\u001b[0;32m----> 2\u001b[0m \u001b[43ms\u001b[49m\u001b[43m[\u001b[49m\u001b[38;5;241;43m0\u001b[39;49m\u001b[43m]\u001b[49m\u001b[38;5;241m=\u001b[39m\u001b[38;5;124m'\u001b[39m\u001b[38;5;124ma\u001b[39m\u001b[38;5;124m'\u001b[39m\n",
      "\u001b[0;31mTypeError\u001b[0m: 'str' object does not support item assignment"
     ]
    }
   ],
   "source": [
    "s='sudh'\n",
    "s[0]='a'"
   ]
  },
  {
   "cell_type": "code",
   "execution_count": null,
   "id": "d3477037-25e4-41be-8441-e0ce06b02eda",
   "metadata": {},
   "outputs": [],
   "source": [
    "# as list is mutable and str is immutable thats y this is happening\n",
    "#immutable means a character present at particular index that character cannot be replaced with annother one by accessimg its imdex"
   ]
  },
  {
   "cell_type": "code",
   "execution_count": 62,
   "id": "2c7d88bb-91ed-46e1-a984-e1f0993dea23",
   "metadata": {},
   "outputs": [
    {
     "data": {
      "text/plain": [
       "'audh'"
      ]
     },
     "execution_count": 62,
     "metadata": {},
     "output_type": "execute_result"
    }
   ],
   "source": [
    "s.replace('s','a')"
   ]
  },
  {
   "cell_type": "code",
   "execution_count": null,
   "id": "e172e8be-0767-4708-8ac2-3c17a5a5c0f5",
   "metadata": {},
   "outputs": [],
   "source": [
    "'''now it get replace which is contradictory to above statement\n",
    "this is bcs the change using replace func is not by accessing index no. but just replacing it temporarely"
   ]
  },
  {
   "cell_type": "code",
   "execution_count": 63,
   "id": "a0483dcf-c2ec-4d52-a07f-32c29afc7c5d",
   "metadata": {},
   "outputs": [
    {
     "data": {
      "text/plain": [
       "'sudh'"
      ]
     },
     "execution_count": 63,
     "metadata": {},
     "output_type": "execute_result"
    }
   ],
   "source": [
    "s"
   ]
  },
  {
   "cell_type": "code",
   "execution_count": 64,
   "id": "dc853b71-8bff-4ef8-9844-dd0d70519f66",
   "metadata": {},
   "outputs": [],
   "source": [
    "'tuple"
   ]
  },
  {
   "cell_type": "code",
   "execution_count": 65,
   "id": "c1d5ab71-52d3-4fdc-9050-6606fcdf97f6",
   "metadata": {},
   "outputs": [],
   "source": [
    "#tuple and list is different by brackets and mutability...tuples have round brackets and is immutable"
   ]
  },
  {
   "cell_type": "code",
   "execution_count": 67,
   "id": "24697ecf-ae4d-4845-b1cb-47c10b319137",
   "metadata": {},
   "outputs": [
    {
     "data": {
      "text/plain": [
       "(5, 4, 3, 2)"
      ]
     },
     "execution_count": 67,
     "metadata": {},
     "output_type": "execute_result"
    }
   ],
   "source": [
    "t=(2,3,4,5,)\n",
    "t[::-1]"
   ]
  },
  {
   "cell_type": "code",
   "execution_count": 68,
   "id": "5d193d73-0f2e-4312-889a-84e8dbb3a2c0",
   "metadata": {},
   "outputs": [
    {
     "data": {
      "text/plain": [
       "(2, 3, 4, 5)"
      ]
     },
     "execution_count": 68,
     "metadata": {},
     "output_type": "execute_result"
    }
   ],
   "source": [
    "t"
   ]
  },
  {
   "cell_type": "code",
   "execution_count": 69,
   "id": "1040c2ae-6d26-4b21-8f92-46af968e333d",
   "metadata": {},
   "outputs": [],
   "source": [
    "# so operations are performed in tuples same like lists but the changings after applying an operation is temporaray"
   ]
  },
  {
   "cell_type": "code",
   "execution_count": null,
   "id": "1f488510-6100-4396-a925-1a1ca2b6383f",
   "metadata": {},
   "outputs": [],
   "source": [
    "'dict"
   ]
  },
  {
   "cell_type": "code",
   "execution_count": 72,
   "id": "ee254b45-e199-4903-bdda-85b1064e0250",
   "metadata": {},
   "outputs": [
    {
     "data": {
      "text/plain": [
       "dict"
      ]
     },
     "execution_count": 72,
     "metadata": {},
     "output_type": "execute_result"
    }
   ],
   "source": [
    "s={}\n",
    "type(s)"
   ]
  },
  {
   "cell_type": "code",
   "execution_count": 74,
   "id": "fd7ac0fb-76ac-4357-ac94-eb9af4f4acaf",
   "metadata": {},
   "outputs": [
    {
     "data": {
      "text/plain": [
       "set"
      ]
     },
     "execution_count": 74,
     "metadata": {},
     "output_type": "execute_result"
    }
   ],
   "source": [
    "s2={2,3,4,5.46,5+2j,(2,3)}\n",
    "type(s2)"
   ]
  },
  {
   "cell_type": "code",
   "execution_count": 75,
   "id": "79205494-849c-4818-912e-27672586b9df",
   "metadata": {},
   "outputs": [],
   "source": [
    "# so the emty set type is dict\n",
    "#list cannot be store in set"
   ]
  },
  {
   "cell_type": "code",
   "execution_count": 80,
   "id": "51cf0c86-33ec-4ce4-87af-27f580903e26",
   "metadata": {},
   "outputs": [],
   "source": [
    "s={9,2,2,2,2,3,3,4,4,5,5,6,7,7,7,7}\n",
    "# set always gives unique elements"
   ]
  },
  {
   "cell_type": "code",
   "execution_count": 81,
   "id": "c403a9a2-5329-47c2-96ab-cd34f96571db",
   "metadata": {},
   "outputs": [
    {
     "data": {
      "text/plain": [
       "{2, 3, 4, 5, 6, 7, 9}"
      ]
     },
     "execution_count": 81,
     "metadata": {},
     "output_type": "execute_result"
    }
   ],
   "source": [
    "s"
   ]
  },
  {
   "cell_type": "code",
   "execution_count": 82,
   "id": "81136c2f-22fc-498c-8cdc-576088a35370",
   "metadata": {},
   "outputs": [],
   "source": [
    "s2=list(s)"
   ]
  },
  {
   "cell_type": "code",
   "execution_count": 83,
   "id": "234b0b99-0d63-4a43-846a-e716447e1e17",
   "metadata": {},
   "outputs": [
    {
     "data": {
      "text/plain": [
       "[2, 3, 4, 5, 6, 7, 9]"
      ]
     },
     "execution_count": 83,
     "metadata": {},
     "output_type": "execute_result"
    }
   ],
   "source": [
    "s2"
   ]
  },
  {
   "cell_type": "code",
   "execution_count": null,
   "id": "d72234e7-7c4c-4094-805c-2f5667d7a0ff",
   "metadata": {},
   "outputs": [],
   "source": [
    "# indexing and slicing cannot be implemented on set\n",
    "#in set hashing is done instead of indexing ...for uniqueness of element ..hashing generates key "
   ]
  }
 ],
 "metadata": {
  "kernelspec": {
   "display_name": "Python 3 (ipykernel)",
   "language": "python",
   "name": "python3"
  },
  "language_info": {
   "codemirror_mode": {
    "name": "ipython",
    "version": 3
   },
   "file_extension": ".py",
   "mimetype": "text/x-python",
   "name": "python",
   "nbconvert_exporter": "python",
   "pygments_lexer": "ipython3",
   "version": "3.10.6"
  }
 },
 "nbformat": 4,
 "nbformat_minor": 5
}
