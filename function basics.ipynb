{
 "cells": [
  {
   "cell_type": "code",
   "execution_count": 3,
   "id": "c8e907e7-e2c7-42cb-8ade-488996aae341",
   "metadata": {},
   "outputs": [],
   "source": [
    "def test():\n",
    "    pass"
   ]
  },
  {
   "cell_type": "code",
   "execution_count": 4,
   "id": "f41dae41-94a4-4b3d-b6d6-ff3bd53e97e2",
   "metadata": {},
   "outputs": [],
   "source": [
    "# using pass ..compiler doesnot ask for any statements and doesnt shoe any error\n",
    "#if we want to add logic later on then in that case we mke use of pass statment"
   ]
  },
  {
   "cell_type": "code",
   "execution_count": 7,
   "id": "b9e96064-0d00-4e33-ad5e-cc5507b2bd0a",
   "metadata": {},
   "outputs": [
    {
     "name": "stdout",
     "output_type": "stream",
     "text": [
      "i m khushi\n"
     ]
    }
   ],
   "source": [
    "def test1():\n",
    "    print('i m khushi')\n",
    "test1()    "
   ]
  },
  {
   "cell_type": "code",
   "execution_count": 8,
   "id": "df054755-b72e-4fba-9a17-720c48722c1b",
   "metadata": {},
   "outputs": [
    {
     "name": "stdout",
     "output_type": "stream",
     "text": [
      "i m khushi\n"
     ]
    },
    {
     "ename": "TypeError",
     "evalue": "unsupported operand type(s) for +: 'NoneType' and 'str'",
     "output_type": "error",
     "traceback": [
      "\u001b[0;31m---------------------------------------------------------------------------\u001b[0m",
      "\u001b[0;31mTypeError\u001b[0m                                 Traceback (most recent call last)",
      "Cell \u001b[0;32mIn [8], line 1\u001b[0m\n\u001b[0;32m----> 1\u001b[0m \u001b[43mtest1\u001b[49m\u001b[43m(\u001b[49m\u001b[43m)\u001b[49m\u001b[38;5;241;43m+\u001b[39;49m\u001b[43m \u001b[49m\u001b[38;5;124;43m'\u001b[39;49m\u001b[38;5;124;43msudh\u001b[39;49m\u001b[38;5;124;43m'\u001b[39;49m\n",
      "\u001b[0;31mTypeError\u001b[0m: unsupported operand type(s) for +: 'NoneType' and 'str'"
     ]
    }
   ],
   "source": [
    "test1()+ 'sudh'"
   ]
  },
  {
   "cell_type": "code",
   "execution_count": null,
   "id": "3510e39b-c67a-46d1-9470-49fd374a2ef8",
   "metadata": {},
   "outputs": [],
   "source": [
    "'''we are not able to concatenate in above code bcs print is nonetype data type ...and 'sudh' is a string ...two different data types are not able to \n",
    "concatenate...to overcome this we can make use of return...return always give data type of data with it"
   ]
  },
  {
   "cell_type": "code",
   "execution_count": 13,
   "id": "b8e85d4d-b574-46f4-bc4d-229ea2b06f13",
   "metadata": {},
   "outputs": [
    {
     "data": {
      "text/plain": [
       "'i m khushibhatia'"
      ]
     },
     "execution_count": 13,
     "metadata": {},
     "output_type": "execute_result"
    }
   ],
   "source": [
    "def test1():\n",
    "    return'i m khushi'\n",
    "test1() + 'bhatia'    "
   ]
  },
  {
   "cell_type": "code",
   "execution_count": 22,
   "id": "aa262161-b54f-4468-8a6c-66776b892453",
   "metadata": {},
   "outputs": [
    {
     "data": {
      "text/plain": [
       "2.75"
      ]
     },
     "execution_count": 22,
     "metadata": {},
     "output_type": "execute_result"
    }
   ],
   "source": [
    "def test2(a,b,c): # here a,b,c are arguments...it is user input\n",
    "    d=a+b/c\n",
    "    return d\n",
    "test2(2,3,4)    "
   ]
  },
  {
   "cell_type": "code",
   "execution_count": 2,
   "id": "77bff713-0e2a-4f11-8266-9dcefe7cf4f9",
   "metadata": {},
   "outputs": [],
   "source": [
    "l=[1,2,3,'sudh','kumar',[0,1,2,3]]"
   ]
  },
  {
   "cell_type": "code",
   "execution_count": 5,
   "id": "81baa0cd-a84d-4dd7-a818-3dee4f31ba59",
   "metadata": {},
   "outputs": [
    {
     "data": {
      "text/plain": [
       "[1, 2, 3]"
      ]
     },
     "execution_count": 5,
     "metadata": {},
     "output_type": "execute_result"
    }
   ],
   "source": [
    "l1=[]\n",
    "for i in l:\n",
    "    if type(i)==int:\n",
    "        l1.append(i)\n",
    "l1"
   ]
  },
  {
   "cell_type": "code",
   "execution_count": null,
   "id": "376efb6f-4708-4821-a00d-7b958c77dee1",
   "metadata": {},
   "outputs": [],
   "source": [
    "#doing above program using function"
   ]
  },
  {
   "cell_type": "code",
   "execution_count": 2,
   "id": "9bf64e9f-48bf-4a00-a992-dbca3241bae4",
   "metadata": {},
   "outputs": [],
   "source": [
    "l=[1,2,3,'sudh','kumar',[0,1,2,3]]"
   ]
  },
  {
   "cell_type": "code",
   "execution_count": 8,
   "id": "59345170-ecdb-4ef4-bd26-478fa4e5ba74",
   "metadata": {},
   "outputs": [
    {
     "data": {
      "text/plain": [
       "[1, 2, 3]"
      ]
     },
     "execution_count": 8,
     "metadata": {},
     "output_type": "execute_result"
    }
   ],
   "source": [
    "def test4():\n",
    "    l1=[]\n",
    "    for i in l:\n",
    "        if type(i)==int:\n",
    "            l1.append(i)\n",
    "    return l1\n",
    "test4()"
   ]
  },
  {
   "cell_type": "code",
   "execution_count": 9,
   "id": "c7043d58-3689-4c65-90d9-fa1863f89ee0",
   "metadata": {},
   "outputs": [
    {
     "data": {
      "text/plain": [
       "[1, 2, 3, 0, 1, 2, 3]"
      ]
     },
     "execution_count": 9,
     "metadata": {},
     "output_type": "execute_result"
    }
   ],
   "source": [
    "def test5():\n",
    "    l1=[]\n",
    "    for i in l:\n",
    "        if type(i)==list:\n",
    "            for j in i:\n",
    "                l1.append(j)\n",
    "        else:\n",
    "            if type(i)==int or type(i)==float:\n",
    "                l1.append(i)\n",
    "    return l1\n",
    "test5()"
   ]
  },
  {
   "cell_type": "code",
   "execution_count": 11,
   "id": "9ab5b00e-5a31-4f8f-b2a7-8907cc470bfa",
   "metadata": {},
   "outputs": [
    {
     "data": {
      "text/plain": [
       "[1, 2, 3, 0, 1, 2, 3]"
      ]
     },
     "execution_count": 11,
     "metadata": {},
     "output_type": "execute_result"
    }
   ],
   "source": [
    "def test6():\n",
    "    '''this is my func to extract num data from given data'''\n",
    "    l1=[]\n",
    "    for i in l:\n",
    "        if type(i)==list:\n",
    "            for j in i:\n",
    "                l1.append(j)\n",
    "        else:\n",
    "            if type(i)==int or type(i)==float:\n",
    "                l1.append(i)\n",
    "    return l1\n",
    "test6()"
   ]
  },
  {
   "cell_type": "code",
   "execution_count": 13,
   "id": "93f203a8-918f-4d9c-b0bc-6334e7a6ffa9",
   "metadata": {},
   "outputs": [],
   "source": [
    "def test7(*args):\n",
    "    return args"
   ]
  },
  {
   "cell_type": "code",
   "execution_count": 14,
   "id": "f1cd8d90-a4a0-4374-9f22-3c716a75fcbb",
   "metadata": {},
   "outputs": [
    {
     "data": {
      "text/plain": [
       "(1, 2, 3)"
      ]
     },
     "execution_count": 14,
     "metadata": {},
     "output_type": "execute_result"
    }
   ],
   "source": [
    "test7(1,2,3)"
   ]
  },
  {
   "cell_type": "code",
   "execution_count": 15,
   "id": "2f02a5db-ead8-4993-aaa7-5b6cc8e9955a",
   "metadata": {},
   "outputs": [
    {
     "data": {
      "text/plain": [
       "(1, 2, 3, 'sudh')"
      ]
     },
     "execution_count": 15,
     "metadata": {},
     "output_type": "execute_result"
    }
   ],
   "source": [
    "test7(1,2,3,'sudh')"
   ]
  },
  {
   "cell_type": "code",
   "execution_count": 16,
   "id": "b3e655fe-b911-4d6a-939b-836120f0fe88",
   "metadata": {},
   "outputs": [
    {
     "data": {
      "text/plain": [
       "tuple"
      ]
     },
     "execution_count": 16,
     "metadata": {},
     "output_type": "execute_result"
    }
   ],
   "source": [
    "type(test7())"
   ]
  },
  {
   "cell_type": "code",
   "execution_count": null,
   "id": "536a5c15-f494-4856-b65d-3d072afbeda5",
   "metadata": {},
   "outputs": [],
   "source": [
    "'''in this ,*args means we can add as many data as we want in called func. without estabilishing particuar named arguments ..\n",
    "and just write *args..*(esterik)means n no. of args\n",
    "then its type became tuple"
   ]
  },
  {
   "cell_type": "code",
   "execution_count": 18,
   "id": "2e93573d-c318-4a4f-b80c-459759e3bd4e",
   "metadata": {},
   "outputs": [],
   "source": [
    "def test8(*args,a):\n",
    "    return args, a"
   ]
  },
  {
   "cell_type": "code",
   "execution_count": 19,
   "id": "79f2f146-bd36-43a8-bf84-0652ce908d86",
   "metadata": {},
   "outputs": [
    {
     "data": {
      "text/plain": [
       "((1, 2, 3), 6)"
      ]
     },
     "execution_count": 19,
     "metadata": {},
     "output_type": "execute_result"
    }
   ],
   "source": [
    "test8(1,2,3,a=6)"
   ]
  },
  {
   "cell_type": "code",
   "execution_count": 20,
   "id": "025d2877-9e3e-4597-8212-884d6579b530",
   "metadata": {},
   "outputs": [],
   "source": [
    "def test9(c,d,a=2,b=3):\n",
    "    return a,b,c,d\n"
   ]
  },
  {
   "cell_type": "code",
   "execution_count": 21,
   "id": "7cebba74-632b-4824-8c76-4a98513d3ade",
   "metadata": {},
   "outputs": [
    {
     "data": {
      "text/plain": [
       "(2, 3, 5, 6)"
      ]
     },
     "execution_count": 21,
     "metadata": {},
     "output_type": "execute_result"
    }
   ],
   "source": [
    "test9(5,6)"
   ]
  },
  {
   "cell_type": "code",
   "execution_count": 22,
   "id": "74f8931e-660a-4b93-b2d7-3c857591b22b",
   "metadata": {},
   "outputs": [
    {
     "ename": "SyntaxError",
     "evalue": "non-default argument follows default argument (2795859744.py, line 1)",
     "output_type": "error",
     "traceback": [
      "\u001b[0;36m  Cell \u001b[0;32mIn [22], line 1\u001b[0;36m\u001b[0m\n\u001b[0;31m    def test9(a=2,b=3,c,d):\u001b[0m\n\u001b[0m                      ^\u001b[0m\n\u001b[0;31mSyntaxError\u001b[0m\u001b[0;31m:\u001b[0m non-default argument follows default argument\n"
     ]
    }
   ],
   "source": [
    "def test9(a=2,b=3,c,d):\n",
    "    return a,b,c,d\n"
   ]
  },
  {
   "cell_type": "code",
   "execution_count": 26,
   "id": "72549fa5-fa43-4cb8-bd30-983a3a7e7a2b",
   "metadata": {},
   "outputs": [],
   "source": [
    "def test9(c,d,a=2,b=3):\n",
    "    return a,d,c,b\n"
   ]
  },
  {
   "cell_type": "code",
   "execution_count": 27,
   "id": "331f6a2a-acdf-478b-9ca9-ec459351d419",
   "metadata": {},
   "outputs": [
    {
     "data": {
      "text/plain": [
       "(2, 6, 5, 3)"
      ]
     },
     "execution_count": 27,
     "metadata": {},
     "output_type": "execute_result"
    }
   ],
   "source": [
    "test9(5,6)"
   ]
  },
  {
   "cell_type": "code",
   "execution_count": 28,
   "id": "4b875d71-93c7-4019-a80f-d4b72a29f71a",
   "metadata": {},
   "outputs": [
    {
     "data": {
      "text/plain": [
       "(567, 6, 5, 3)"
      ]
     },
     "execution_count": 28,
     "metadata": {},
     "output_type": "execute_result"
    }
   ],
   "source": [
    "test9(5,6,a=567) #overwriting of value of a (possible)"
   ]
  },
  {
   "cell_type": "code",
   "execution_count": null,
   "id": "891a20ab-382b-4721-a4e6-369aba63d2d5",
   "metadata": {},
   "outputs": [],
   "source": [
    "'''double esterick is use for extracting data in dict or key value formaat"
   ]
  },
  {
   "cell_type": "code",
   "execution_count": 29,
   "id": "0443a981-f854-49c2-bc77-d2de8d25ec33",
   "metadata": {},
   "outputs": [],
   "source": [
    "def test10(**kwargs):\n",
    "    return kwargs"
   ]
  },
  {
   "cell_type": "code",
   "execution_count": 30,
   "id": "667a34b0-c0bd-40c3-bb5a-c05115272da7",
   "metadata": {},
   "outputs": [
    {
     "data": {
      "text/plain": [
       "{'key1': 'khushi', 'key2': [1, 2, 3, 4], 'key3': 23.4}"
      ]
     },
     "execution_count": 30,
     "metadata": {},
     "output_type": "execute_result"
    }
   ],
   "source": [
    "test10(key1= 'khushi',key2=[1,2,3,4],key3= 23.4)"
   ]
  },
  {
   "cell_type": "code",
   "execution_count": 31,
   "id": "b055bc97-7d23-4d17-995c-2c52ee10a877",
   "metadata": {},
   "outputs": [
    {
     "data": {
      "text/plain": [
       "dict"
      ]
     },
     "execution_count": 31,
     "metadata": {},
     "output_type": "execute_result"
    }
   ],
   "source": [
    "type(test10())"
   ]
  },
  {
   "cell_type": "code",
   "execution_count": null,
   "id": "cdaa1e03-7b1b-4c0b-af22-7cb1ba5e1c3b",
   "metadata": {},
   "outputs": [],
   "source": []
  }
 ],
 "metadata": {
  "kernelspec": {
   "display_name": "Python 3 (ipykernel)",
   "language": "python",
   "name": "python3"
  },
  "language_info": {
   "codemirror_mode": {
    "name": "ipython",
    "version": 3
   },
   "file_extension": ".py",
   "mimetype": "text/x-python",
   "name": "python",
   "nbconvert_exporter": "python",
   "pygments_lexer": "ipython3",
   "version": "3.10.6"
  }
 },
 "nbformat": 4,
 "nbformat_minor": 5
}
