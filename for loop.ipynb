{
 "cells": [
  {
   "cell_type": "code",
   "execution_count": 1,
   "id": "48675473-b8b4-4f33-855a-1cb4c907f9a0",
   "metadata": {},
   "outputs": [],
   "source": [
    "l=[1,2,3,4,5,6]"
   ]
  },
  {
   "cell_type": "code",
   "execution_count": 5,
   "id": "7f9b6c30-f2dc-4221-b58f-724d25829ce6",
   "metadata": {},
   "outputs": [
    {
     "name": "stdout",
     "output_type": "stream",
     "text": [
      "2\n",
      "3\n",
      "4\n",
      "5\n",
      "6\n",
      "7\n"
     ]
    },
    {
     "ename": "TypeError",
     "evalue": "can only concatenate list (not \"int\") to list",
     "output_type": "error",
     "traceback": [
      "\u001b[0;31m---------------------------------------------------------------------------\u001b[0m",
      "\u001b[0;31mTypeError\u001b[0m                                 Traceback (most recent call last)",
      "Cell \u001b[0;32mIn [5], line 3\u001b[0m\n\u001b[1;32m      1\u001b[0m l1\u001b[38;5;241m=\u001b[39m[]\n\u001b[1;32m      2\u001b[0m \u001b[38;5;28;01mfor\u001b[39;00m i \u001b[38;5;129;01min\u001b[39;00m l:\n\u001b[0;32m----> 3\u001b[0m     \u001b[38;5;28mprint\u001b[39m(\u001b[43mi\u001b[49m\u001b[38;5;241;43m+\u001b[39;49m\u001b[38;5;241;43m1\u001b[39;49m)\n\u001b[1;32m      4\u001b[0m     l1\u001b[38;5;241m.\u001b[39mappend(i\u001b[38;5;241m+\u001b[39m\u001b[38;5;241m1\u001b[39m)\n\u001b[1;32m      5\u001b[0m l1\n",
      "\u001b[0;31mTypeError\u001b[0m: can only concatenate list (not \"int\") to list"
     ]
    }
   ],
   "source": [
    "l1=[]\n",
    "for i in l:\n",
    "    print(i+1)\n",
    "    l1.append(i+1)\n",
    "l1"
   ]
  },
  {
   "cell_type": "code",
   "execution_count": 15,
   "id": "968aa657-d88e-4841-9ec1-33b07355859c",
   "metadata": {},
   "outputs": [],
   "source": [
    "l2=['khushi','sehaj']"
   ]
  },
  {
   "cell_type": "code",
   "execution_count": 16,
   "id": "539f5ba2-940e-4f48-851b-92a5e4d144a5",
   "metadata": {},
   "outputs": [],
   "source": [
    "l1=[]\n",
    "for i in l2:\n",
    "    i.upper()\n",
    "    l1.append(i.upper())"
   ]
  },
  {
   "cell_type": "code",
   "execution_count": 17,
   "id": "497aec9e-ebe5-49d5-8344-cbcc0c83a836",
   "metadata": {},
   "outputs": [
    {
     "data": {
      "text/plain": [
       "['KHUSHI', 'SEHAJ']"
      ]
     },
     "execution_count": 17,
     "metadata": {},
     "output_type": "execute_result"
    }
   ],
   "source": [
    "l1"
   ]
  },
  {
   "cell_type": "code",
   "execution_count": 11,
   "id": "1b945b44-e7fc-4c5f-a4f3-7acd305a649b",
   "metadata": {},
   "outputs": [],
   "source": [
    "l3=['sudh','khushi','sehaj','pranav']"
   ]
  },
  {
   "cell_type": "code",
   "execution_count": 7,
   "id": "74b913cf-d2de-472b-bac9-535227d50b8f",
   "metadata": {},
   "outputs": [
    {
     "name": "stdout",
     "output_type": "stream",
     "text": [
      "sudh\n",
      "khushi\n",
      "sehaj\n",
      "pranav\n"
     ]
    }
   ],
   "source": [
    "for i in l3:\n",
    "    if i =='khushi ':\n",
    "        break\n",
    "    print(i)"
   ]
  },
  {
   "cell_type": "code",
   "execution_count": 6,
   "id": "6365f2f8-b60f-47e4-bed9-843ee455e212",
   "metadata": {},
   "outputs": [],
   "source": [
    "#for else statement...else statement will only excecute if for-loop completely excecuted"
   ]
  },
  {
   "cell_type": "code",
   "execution_count": null,
   "id": "4fbe8f3d-caae-4807-8d86-4217a9fcc7d4",
   "metadata": {},
   "outputs": [],
   "source": [
    "#covering break and continue in this"
   ]
  },
  {
   "cell_type": "code",
   "execution_count": null,
   "id": "c7a79a92-604d-4933-9b82-c379718c2fc4",
   "metadata": {},
   "outputs": [],
   "source": [
    "'''now use of range in for-loop"
   ]
  },
  {
   "cell_type": "code",
   "execution_count": 2,
   "id": "18df603e-43da-4e43-a4e7-b9d41cde73c3",
   "metadata": {},
   "outputs": [],
   "source": [
    "l3=['sudh','khushi','sehaj','pranav']"
   ]
  },
  {
   "cell_type": "code",
   "execution_count": 4,
   "id": "b5a3b4da-6404-4273-8eaf-730a1c21952a",
   "metadata": {},
   "outputs": [
    {
     "name": "stdout",
     "output_type": "stream",
     "text": [
      "sudh\n",
      "khushi\n",
      "sehaj\n",
      "pranav\n"
     ]
    }
   ],
   "source": [
    "for i in range(len(l3)):\n",
    "    print(l3[i])"
   ]
  },
  {
   "cell_type": "code",
   "execution_count": 5,
   "id": "e22284b5-b8bf-4d5c-935e-7829f151f832",
   "metadata": {},
   "outputs": [
    {
     "name": "stdout",
     "output_type": "stream",
     "text": [
      "pranav\n",
      "sehaj\n",
      "khushi\n",
      "sudh\n"
     ]
    }
   ],
   "source": [
    "for i in range(len(l3)-1,-1,-1):\n",
    "    print(l3[i])"
   ]
  },
  {
   "cell_type": "code",
   "execution_count": 8,
   "id": "e2db1d81-086a-41a2-82b8-56b200dabfdf",
   "metadata": {},
   "outputs": [],
   "source": [
    "l4=[34,56,78,90,12,14,15,18]"
   ]
  },
  {
   "cell_type": "code",
   "execution_count": 9,
   "id": "b76c9b75-4bb7-4f86-b038-ecc3321c5ede",
   "metadata": {},
   "outputs": [
    {
     "name": "stdout",
     "output_type": "stream",
     "text": [
      "34\n",
      "78\n",
      "12\n",
      "15\n"
     ]
    }
   ],
   "source": [
    "for i in range(0,len(l4),2):\n",
    "    print(l4[i])"
   ]
  },
  {
   "cell_type": "code",
   "execution_count": 10,
   "id": "edb105d7-9a0d-43c5-ae7b-eb1946ee51c4",
   "metadata": {},
   "outputs": [],
   "source": [
    "l=[1,2,3,4,5,6,7]"
   ]
  },
  {
   "cell_type": "code",
   "execution_count": 18,
   "id": "2539e620-25ad-4ea7-bb18-6f4a3cb007ff",
   "metadata": {},
   "outputs": [
    {
     "name": "stdout",
     "output_type": "stream",
     "text": [
      "1\n",
      "3\n",
      "6\n",
      "10\n",
      "15\n",
      "21\n",
      "28\n"
     ]
    },
    {
     "data": {
      "text/plain": [
       "28"
      ]
     },
     "execution_count": 18,
     "metadata": {},
     "output_type": "execute_result"
    }
   ],
   "source": [
    "result=0\n",
    "for i in l:\n",
    "    result=result+i\n",
    "    print(result)\n",
    "result"
   ]
  },
  {
   "cell_type": "code",
   "execution_count": 24,
   "id": "e18fbd7c-394e-40d3-916c-e97e8bbe462d",
   "metadata": {},
   "outputs": [],
   "source": [
    "d={'name':'khushi','class': 'bsc.data science','subjects':['big data', 'ml','pyton','etc']}"
   ]
  },
  {
   "cell_type": "code",
   "execution_count": 25,
   "id": "5146beee-f8a4-4156-ad2e-ef897fa22b55",
   "metadata": {},
   "outputs": [
    {
     "name": "stdout",
     "output_type": "stream",
     "text": [
      "khushi\n",
      "bsc.data science\n",
      "['big data', 'ml', 'pyton', 'etc']\n"
     ]
    }
   ],
   "source": [
    "for i in d.keys():\n",
    "    print(d[i])\n",
    "    "
   ]
  },
  {
   "cell_type": "code",
   "execution_count": 29,
   "id": "f04e30c8-acad-4880-9200-2d0ecaf539d2",
   "metadata": {},
   "outputs": [
    {
     "name": "stdout",
     "output_type": "stream",
     "text": [
      "khushi\n",
      "bsc.data science\n",
      "['big data', 'ml', 'pyton', 'etc']\n"
     ]
    }
   ],
   "source": [
    "for i in d.values():\n",
    "    print(i)"
   ]
  },
  {
   "cell_type": "code",
   "execution_count": 26,
   "id": "adeadcca-831c-4299-8452-2f360be7741c",
   "metadata": {},
   "outputs": [
    {
     "name": "stdout",
     "output_type": "stream",
     "text": [
      "('name', 'khushi')\n",
      "('class', 'bsc.data science')\n",
      "('subjects', ['big data', 'ml', 'pyton', 'etc'])\n"
     ]
    }
   ],
   "source": [
    "for i in d.items():\n",
    "    print(i)"
   ]
  },
  {
   "cell_type": "code",
   "execution_count": null,
   "id": "9f3e1e9e-b3a0-4375-8973-0154137119f0",
   "metadata": {},
   "outputs": [],
   "source": []
  }
 ],
 "metadata": {
  "kernelspec": {
   "display_name": "Python 3 (ipykernel)",
   "language": "python",
   "name": "python3"
  },
  "language_info": {
   "codemirror_mode": {
    "name": "ipython",
    "version": 3
   },
   "file_extension": ".py",
   "mimetype": "text/x-python",
   "name": "python",
   "nbconvert_exporter": "python",
   "pygments_lexer": "ipython3",
   "version": "3.10.6"
  }
 },
 "nbformat": 4,
 "nbformat_minor": 5
}
