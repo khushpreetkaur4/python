{
 "cells": [
  {
   "cell_type": "markdown",
   "id": "193e65d0-03a5-485f-9cb4-48fc4ae68d47",
   "metadata": {
    "tags": []
   },
   "source": [
    "#                                     oops  (object oriented programming system)"
   ]
  },
  {
   "cell_type": "markdown",
   "id": "945803c4-87a5-4802-89b3-55f09b054896",
   "metadata": {},
   "source": [
    "## 1.class and object concept"
   ]
  },
  {
   "cell_type": "code",
   "execution_count": 1,
   "id": "46b694a9-a990-4750-bf37-5d82d60232b8",
   "metadata": {},
   "outputs": [],
   "source": [
    "class test():\n",
    "    def welcome_msg(self):\n",
    "        print('welcome to pwskills')"
   ]
  },
  {
   "cell_type": "code",
   "execution_count": 4,
   "id": "b45e14a6-2f96-4484-bc91-c1ffea566425",
   "metadata": {},
   "outputs": [],
   "source": [
    "khushi=test()"
   ]
  },
  {
   "cell_type": "code",
   "execution_count": 5,
   "id": "326cab7d-fda4-4e7d-a60f-c08888536b4d",
   "metadata": {},
   "outputs": [
    {
     "name": "stdout",
     "output_type": "stream",
     "text": [
      "welcome to pwskills\n"
     ]
    }
   ],
   "source": [
    "khushi.welcome_msg()"
   ]
  },
  {
   "cell_type": "code",
   "execution_count": 23,
   "id": "af33a899-8a43-4bc9-a2a0-2c45c8f05e09",
   "metadata": {},
   "outputs": [],
   "source": [
    "class pwskills():\n",
    "    def __init__(self, phone_number,email,studentid):\n",
    "        self.phonenumber=phone_number\n",
    "        self.email=email\n",
    "        self.studentid=studentid\n",
    "    def return_student_details(self):\n",
    "        return self.studentid,self.email,self.phonenumber"
   ]
  },
  {
   "cell_type": "code",
   "execution_count": 24,
   "id": "8c32b850-20cb-4e2d-a073-a5b11683b1d8",
   "metadata": {},
   "outputs": [
    {
     "ename": "TypeError",
     "evalue": "pwskills.__init__() missing 3 required positional arguments: 'phone_number', 'email', and 'studentid'",
     "output_type": "error",
     "traceback": [
      "\u001b[0;31m---------------------------------------------------------------------------\u001b[0m",
      "\u001b[0;31mTypeError\u001b[0m                                 Traceback (most recent call last)",
      "Cell \u001b[0;32mIn [24], line 1\u001b[0m\n\u001b[0;32m----> 1\u001b[0m khushi\u001b[38;5;241m=\u001b[39m\u001b[43mpwskills\u001b[49m\u001b[43m(\u001b[49m\u001b[43m)\u001b[49m\n",
      "\u001b[0;31mTypeError\u001b[0m: pwskills.__init__() missing 3 required positional arguments: 'phone_number', 'email', and 'studentid'"
     ]
    }
   ],
   "source": [
    "khushi=pwskills()\n"
   ]
  },
  {
   "cell_type": "code",
   "execution_count": 25,
   "id": "b67740b6-bdc6-4a83-afd0-34f6dc20889f",
   "metadata": {},
   "outputs": [],
   "source": [
    "khushi=pwskills(99887776655,'khushibhatia@gmail.com',101)"
   ]
  },
  {
   "cell_type": "code",
   "execution_count": 26,
   "id": "6e070a77-8c22-479b-b2fe-292a3dd0e738",
   "metadata": {},
   "outputs": [
    {
     "data": {
      "text/plain": [
       "(101, 'khushibhatia@gmail.com', 99887776655)"
      ]
     },
     "execution_count": 26,
     "metadata": {},
     "output_type": "execute_result"
    }
   ],
   "source": [
    "khushi.return_student_details()"
   ]
  },
  {
   "cell_type": "code",
   "execution_count": 31,
   "id": "bcf54483-1621-4588-bc10-ad76ce11866f",
   "metadata": {},
   "outputs": [
    {
     "data": {
      "text/plain": [
       "99887776655"
      ]
     },
     "execution_count": 31,
     "metadata": {},
     "output_type": "execute_result"
    }
   ],
   "source": [
    "khushi.phonenumber"
   ]
  },
  {
   "cell_type": "code",
   "execution_count": 32,
   "id": "cb1224c7-0c65-4e26-bc52-c77aa87ac9df",
   "metadata": {},
   "outputs": [],
   "source": [
    "#self is not a reserved keywoed .. u can use any word \n",
    "#its just a pointer which binds the data with the class"
   ]
  },
  {
   "cell_type": "markdown",
   "id": "c0d50ed2-02f5-45a8-9111-52b5d972e95a",
   "metadata": {},
   "source": [
    "## 2. polymorphism"
   ]
  },
  {
   "cell_type": "code",
   "execution_count": 38,
   "id": "02cdf53e-9986-4923-b8cf-a026053521b9",
   "metadata": {},
   "outputs": [],
   "source": [
    "#when same entity shows different behaviour\n",
    "#exmple:\n",
    "def test(a,b):\n",
    "    return a+b"
   ]
  },
  {
   "cell_type": "code",
   "execution_count": 39,
   "id": "75dcb98c-ab3c-4ad3-a873-c7b9a877373e",
   "metadata": {},
   "outputs": [
    {
     "data": {
      "text/plain": [
       "7"
      ]
     },
     "execution_count": 39,
     "metadata": {},
     "output_type": "execute_result"
    }
   ],
   "source": [
    "test(3,4)"
   ]
  },
  {
   "cell_type": "code",
   "execution_count": 40,
   "id": "c00ae7cf-2b92-4210-a826-ed6848d31a20",
   "metadata": {},
   "outputs": [
    {
     "data": {
      "text/plain": [
       "[3, 4, 5, 5, 6, 7]"
      ]
     },
     "execution_count": 40,
     "metadata": {},
     "output_type": "execute_result"
    }
   ],
   "source": [
    "test([3,4,5],[5,6,7])"
   ]
  },
  {
   "cell_type": "code",
   "execution_count": 43,
   "id": "d360c744-eca4-4dc2-9751-da5d68b39931",
   "metadata": {},
   "outputs": [
    {
     "data": {
      "text/plain": [
       "'kumarsudh'"
      ]
     },
     "execution_count": 43,
     "metadata": {},
     "output_type": "execute_result"
    }
   ],
   "source": [
    "test(\"kumar\" , \"sudh\")"
   ]
  },
  {
   "cell_type": "code",
   "execution_count": null,
   "id": "f3e1a77a-7249-4229-b50f-0a9b7d6a77cd",
   "metadata": {},
   "outputs": [],
   "source": [
    "#in above permutations, same entity i.e func test shows different behaviour by adding or concatenating different data types"
   ]
  },
  {
   "cell_type": "code",
   "execution_count": 53,
   "id": "6069e196-dbda-443d-a409-d004e4b94bd4",
   "metadata": {},
   "outputs": [],
   "source": [
    "class data_sci:\n",
    "    def syllabus(self):\n",
    "        print('this is my data sci syllabus')"
   ]
  },
  {
   "cell_type": "code",
   "execution_count": 54,
   "id": "e8de8956-a248-49c9-bc9b-6ab1ac739871",
   "metadata": {},
   "outputs": [],
   "source": [
    "class web_dev:\n",
    "    def syllabus(self):\n",
    "        print('this is my web dev syll')"
   ]
  },
  {
   "cell_type": "code",
   "execution_count": 55,
   "id": "2a5f68aa-da40-4efc-bcd8-0d9b48c41bf5",
   "metadata": {},
   "outputs": [],
   "source": [
    "def test(test1):\n",
    "    for i in test1:\n",
    "        i.syllabus()"
   ]
  },
  {
   "cell_type": "code",
   "execution_count": 56,
   "id": "fb8075bb-be0d-4324-a97f-179261aa8008",
   "metadata": {},
   "outputs": [],
   "source": [
    "data_science=data_sci"
   ]
  },
  {
   "cell_type": "code",
   "execution_count": 57,
   "id": "1bc2ee53-9bd5-40bc-a097-9a74566440e0",
   "metadata": {},
   "outputs": [],
   "source": [
    "web_development=web_dev"
   ]
  },
  {
   "cell_type": "code",
   "execution_count": 58,
   "id": "f35d6fe1-7519-4a56-9f98-7a8809d061ce",
   "metadata": {},
   "outputs": [],
   "source": [
    "test1=[data_science,web_development]"
   ]
  },
  {
   "cell_type": "code",
   "execution_count": 60,
   "id": "cc1dd5a9-4eac-491a-ac76-cdbdb69a646d",
   "metadata": {},
   "outputs": [
    {
     "ename": "TypeError",
     "evalue": "data_sci.syllabus() missing 1 required positional argument: 'self'",
     "output_type": "error",
     "traceback": [
      "\u001b[0;31m---------------------------------------------------------------------------\u001b[0m",
      "\u001b[0;31mTypeError\u001b[0m                                 Traceback (most recent call last)",
      "Cell \u001b[0;32mIn [60], line 1\u001b[0m\n\u001b[0;32m----> 1\u001b[0m \u001b[43mtest\u001b[49m\u001b[43m(\u001b[49m\u001b[43mtest1\u001b[49m\u001b[43m)\u001b[49m\n",
      "Cell \u001b[0;32mIn [55], line 3\u001b[0m, in \u001b[0;36mtest\u001b[0;34m(test1)\u001b[0m\n\u001b[1;32m      1\u001b[0m \u001b[38;5;28;01mdef\u001b[39;00m \u001b[38;5;21mtest\u001b[39m(test1):\n\u001b[1;32m      2\u001b[0m     \u001b[38;5;28;01mfor\u001b[39;00m i \u001b[38;5;129;01min\u001b[39;00m test1:\n\u001b[0;32m----> 3\u001b[0m         \u001b[43mi\u001b[49m\u001b[38;5;241;43m.\u001b[39;49m\u001b[43msyllabus\u001b[49m\u001b[43m(\u001b[49m\u001b[43m)\u001b[49m\n",
      "\u001b[0;31mTypeError\u001b[0m: data_sci.syllabus() missing 1 required positional argument: 'self'"
     ]
    }
   ],
   "source": [
    "test(test1)"
   ]
  },
  {
   "cell_type": "code",
   "execution_count": 61,
   "id": "3ae22d3f-8e94-44db-8f42-e6f12aaf4682",
   "metadata": {},
   "outputs": [],
   "source": [
    "#here sigle entity i.e func test shows multiple behaviour"
   ]
  },
  {
   "cell_type": "markdown",
   "id": "97046501-c55f-45be-ab1e-f9482941b077",
   "metadata": {},
   "source": [
    "## 3. encapsulation"
   ]
  },
  {
   "cell_type": "code",
   "execution_count": 62,
   "id": "27b933bd-e547-4184-beff-3cd7ae34f98c",
   "metadata": {},
   "outputs": [],
   "source": [
    "class test:\n",
    "    def __init__(self,a,b):\n",
    "        self.a=a\n",
    "        self.b=b"
   ]
  },
  {
   "cell_type": "code",
   "execution_count": 63,
   "id": "cb90e3c7-a92c-4e49-8590-3f2f93455f52",
   "metadata": {},
   "outputs": [],
   "source": [
    "t=test(3,4)"
   ]
  },
  {
   "cell_type": "code",
   "execution_count": 64,
   "id": "38d7fb88-380c-4004-9bea-2ab9f3f9f136",
   "metadata": {},
   "outputs": [],
   "source": [
    "t.a=3456"
   ]
  },
  {
   "cell_type": "code",
   "execution_count": 65,
   "id": "b53cff3e-3273-426c-9058-8728781da52e",
   "metadata": {},
   "outputs": [
    {
     "data": {
      "text/plain": [
       "3456"
      ]
     },
     "execution_count": 65,
     "metadata": {},
     "output_type": "execute_result"
    }
   ],
   "source": [
    "t.a"
   ]
  },
  {
   "cell_type": "code",
   "execution_count": null,
   "id": "0f2bf284-ad71-4651-9341-b9652a940a55",
   "metadata": {},
   "outputs": [],
   "source": [
    "'''here firstly we define the value of a=3 and b=4...later on someone changes the value of a as a is shown by clicking on tab button\n",
    "so to prevent the showing of a,b variables by clicking on tab button..we have to do encapsulation by this no one is able to see a,b variable"
   ]
  },
  {
   "cell_type": "code",
   "execution_count": 3,
   "id": "dc7ff886-55d1-4c64-bb97-576597a43e11",
   "metadata": {},
   "outputs": [],
   "source": [
    "class car:\n",
    "    def __init__(self,year,make,model,speed):\n",
    "        self.__year=year\n",
    "        self.__make=make\n",
    "        self.__model=model\n",
    "        self.__speed=speed\n",
    "        "
   ]
  },
  {
   "cell_type": "code",
   "execution_count": 4,
   "id": "c11faea5-5b69-446d-ac40-d0106cdf1fa3",
   "metadata": {},
   "outputs": [],
   "source": [
    "c=car(2021,2011,'enova',20)"
   ]
  },
  {
   "cell_type": "code",
   "execution_count": null,
   "id": "65f2d3ca-1bef-4888-9d85-57a5e2751abd",
   "metadata": {},
   "outputs": [],
   "source": [
    "c."
   ]
  },
  {
   "cell_type": "code",
   "execution_count": null,
   "id": "52f2deb3-3f8b-4d38-bd99-8287bbe36879",
   "metadata": {},
   "outputs": [],
   "source": [
    "#now user is not able to get variables used in this by clicking on tab button"
   ]
  },
  {
   "cell_type": "code",
   "execution_count": 5,
   "id": "70f09942-cc23-4221-87f7-2f0119fc9f15",
   "metadata": {},
   "outputs": [
    {
     "data": {
      "text/plain": [
       "2021"
      ]
     },
     "execution_count": 5,
     "metadata": {},
     "output_type": "execute_result"
    }
   ],
   "source": [
    "#the maker of this program only get its access by:\n",
    "c._car__year"
   ]
  },
  {
   "cell_type": "markdown",
   "id": "6a8a158c-b0c3-479a-bc2d-4178dd60706f",
   "metadata": {},
   "source": [
    "# 4. inheritance"
   ]
  },
  {
   "cell_type": "code",
   "execution_count": 42,
   "id": "4158a346-66f4-4c9b-83aa-1549cb18955f",
   "metadata": {},
   "outputs": [],
   "source": [
    "class class1:\n",
    "    def tests(self):\n",
    "        return('m khushi')"
   ]
  },
  {
   "cell_type": "code",
   "execution_count": 43,
   "id": "a1d8c3b7-d42a-4346-8a6b-7e3dbfe0c3ef",
   "metadata": {},
   "outputs": [],
   "source": [
    "class class2(class1):\n",
    "    pass\n",
    "    "
   ]
  },
  {
   "cell_type": "code",
   "execution_count": 44,
   "id": "f8182a41-eb90-4c7e-b228-21d57a51d7ca",
   "metadata": {},
   "outputs": [],
   "source": [
    "test1=class2()"
   ]
  },
  {
   "cell_type": "code",
   "execution_count": 46,
   "id": "19bbaef5-9ff0-48a7-94fd-265fd147f137",
   "metadata": {},
   "outputs": [
    {
     "data": {
      "text/plain": [
       "'m khushi'"
      ]
     },
     "execution_count": 46,
     "metadata": {},
     "output_type": "execute_result"
    }
   ],
   "source": [
    "test1.tests()"
   ]
  },
  {
   "cell_type": "code",
   "execution_count": 35,
   "id": "ec59301b-fe22-4b14-90be-08e4f89c5243",
   "metadata": {},
   "outputs": [],
   "source": [
    "class class1:\n",
    "    def test_class1(self):\n",
    "        return('this is a method from class 1')\n",
    "        \n",
    "        \n",
    "class class2(class1):\n",
    "    def test_class2(self):\n",
    "        return('this is a method from class2')\n",
    "        \n",
    "class class3(class2):\n",
    "    def test_class3(self):\n",
    "        return('this is my last class')"
   ]
  },
  {
   "cell_type": "code",
   "execution_count": 48,
   "id": "b1d84eb9-931a-46a8-a172-cf473097439a",
   "metadata": {},
   "outputs": [],
   "source": [
    "testing=class2()"
   ]
  },
  {
   "cell_type": "code",
   "execution_count": 49,
   "id": "a2c01c25-738d-47b5-9e65-d7192d834efe",
   "metadata": {},
   "outputs": [],
   "source": [
    "testing2=class3()"
   ]
  },
  {
   "cell_type": "code",
   "execution_count": 50,
   "id": "2ae64ab6-78c5-4fd2-ae83-6dc546f57785",
   "metadata": {},
   "outputs": [
    {
     "data": {
      "text/plain": [
       "'this is a method from class2'"
      ]
     },
     "execution_count": 50,
     "metadata": {},
     "output_type": "execute_result"
    }
   ],
   "source": [
    "testing2.test_class2()"
   ]
  },
  {
   "cell_type": "code",
   "execution_count": null,
   "id": "81aacb82-be87-4d1a-914c-de251394704b",
   "metadata": {},
   "outputs": [],
   "source": [
    "'''class2 have property of class 1 ...and class 3 have property or inheritance of property of class 2 and class1 \n",
    "rhis is known as multiple inheritance"
   ]
  },
  {
   "cell_type": "markdown",
   "id": "24ceeec4-61c7-4bc8-99d0-6d13b2fc338a",
   "metadata": {},
   "source": [
    "#  5.abstraction"
   ]
  },
  {
   "cell_type": "code",
   "execution_count": 59,
   "id": "1a7d659d-0d9b-4bc8-bcdf-1bb665fc61bc",
   "metadata": {},
   "outputs": [],
   "source": [
    "import abc\n",
    "class pwskills:\n",
    "    \n",
    "    @abc.abstractmethod\n",
    "    def student_details(self):\n",
    "        pass\n",
    "    \n",
    "    @abc.abstractmethod\n",
    "    def assignments(self):\n",
    "        pass\n",
    "    \n",
    "    @abc.abstractmethod\n",
    "    def attendence(self):\n",
    "        pass\n",
    "    \n",
    "    @abc.abstractmethod\n",
    "    def marks(self):\n",
    "        pass                                    #this is a blueprint...can used by other class acc to need\n",
    "                                                  # this blueprint is imp points that other classes may needed"
   ]
  },
  {
   "cell_type": "code",
   "execution_count": 53,
   "id": "6becba07-7e56-4c64-8c21-43a50913f1ea",
   "metadata": {},
   "outputs": [],
   "source": [
    "class data_sci(pwskills):\n",
    "    def student_details\n",
    "        return('this contains detail of students')\n",
    "    def marks(self):\n",
    "        return('this will show marks of students')\n",
    "    "
   ]
  },
  {
   "cell_type": "code",
   "execution_count": 61,
   "id": "2653bb99-4c7b-48ab-9705-b978f37d71a4",
   "metadata": {},
   "outputs": [],
   "source": [
    "class web_dev(pwskills):\n",
    "    def student_details(self):\n",
    "        return(' rohan: 9988665544, gaurav:9988776655')\n",
    "    def marks(self):\n",
    "        return(' this shows marks of pass students')"
   ]
  },
  {
   "cell_type": "code",
   "execution_count": 62,
   "id": "3a4bbb96-0ba0-401a-8d52-41c8513712c8",
   "metadata": {},
   "outputs": [],
   "source": [
    "data=data_sci()"
   ]
  },
  {
   "cell_type": "code",
   "execution_count": 63,
   "id": "88c715cb-1068-4520-870e-577f895043db",
   "metadata": {},
   "outputs": [],
   "source": [
    "web=web_dev()"
   ]
  },
  {
   "cell_type": "code",
   "execution_count": 64,
   "id": "644281f6-419f-4ed5-bc34-104809dee74c",
   "metadata": {},
   "outputs": [
    {
     "data": {
      "text/plain": [
       "'this will show marks of students'"
      ]
     },
     "execution_count": 64,
     "metadata": {},
     "output_type": "execute_result"
    }
   ],
   "source": [
    "data.marks()"
   ]
  },
  {
   "cell_type": "code",
   "execution_count": null,
   "id": "fc1f2840-f5e8-43b6-945b-e4ff07f33ad9",
   "metadata": {},
   "outputs": [],
   "source": []
  }
 ],
 "metadata": {
  "kernelspec": {
   "display_name": "Python 3 (ipykernel)",
   "language": "python",
   "name": "python3"
  },
  "language_info": {
   "codemirror_mode": {
    "name": "ipython",
    "version": 3
   },
   "file_extension": ".py",
   "mimetype": "text/x-python",
   "name": "python",
   "nbconvert_exporter": "python",
   "pygments_lexer": "ipython3",
   "version": "3.10.6"
  }
 },
 "nbformat": 4,
 "nbformat_minor": 5
}
