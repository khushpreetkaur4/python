{
 "cells": [
  {
   "cell_type": "markdown",
   "id": "a28cee94-aadb-48b9-bd43-6f76046d2038",
   "metadata": {},
   "source": [
    "while loop"
   ]
  },
  {
   "cell_type": "code",
   "execution_count": 2,
   "id": "36b12331-18d2-4839-b7a1-7b6b1188e0c3",
   "metadata": {},
   "outputs": [
    {
     "name": "stdout",
     "output_type": "stream",
     "text": [
      "1\n",
      "2\n",
      "3\n",
      "4\n",
      "5\n",
      "6\n",
      "7\n",
      "8\n",
      "9\n",
      "10\n"
     ]
    }
   ],
   "source": [
    "a=1\n",
    "while a<=10:\n",
    "    print(a)\n",
    "    a=a+1"
   ]
  },
  {
   "cell_type": "markdown",
   "id": "32713065-0a95-4589-b6c7-143e3ebfd5bb",
   "metadata": {},
   "source": [
    "#suming"
   ]
  },
  {
   "cell_type": "code",
   "execution_count": null,
   "id": "7d36056b-9cf9-4815-8cdc-1ba705e516cc",
   "metadata": {},
   "outputs": [],
   "source": [
    "n=int(input('enter a no. till which u want sum up:'))\n",
    "starting_point=1\n",
    "counter=0\n",
    "while n>=counter:\n",
    "    starting_point=starting_point+counter\n",
    "    counter=counter+1"
   ]
  },
  {
   "cell_type": "markdown",
   "id": "5b4cbb7a-c18c-421a-8c4e-975bbecdc2c5",
   "metadata": {},
   "source": [
    "#factorial"
   ]
  },
  {
   "cell_type": "code",
   "execution_count": null,
   "id": "aec81a48-c4f2-47c8-b8c5-099d8b980540",
   "metadata": {},
   "outputs": [],
   "source": [
    "n=int(input('enter a no.:'))\n",
    "factorial=1\n",
    "while n>0:\n",
    "    factorial=factorial*n\n",
    "    n=n-1\n",
    "factorial"
   ]
  },
  {
   "cell_type": "markdown",
   "id": "dc53984a-2fbf-43b5-9ee9-868b32c97d0c",
   "metadata": {},
   "source": [
    "#fibonacci series"
   ]
  },
  {
   "cell_type": "code",
   "execution_count": null,
   "id": "570cd6f3-5388-4eb0-b34b-82c3ba80f09a",
   "metadata": {},
   "outputs": [],
   "source": [
    "n=int(input('enter a no. :'))\n",
    "a=0\n",
    "b=1\n",
    "counter=0\n",
    "while counter<n:\n",
    "    print(a)\n",
    "    c=a+b\n",
    "    a=b\n",
    "    b=c\n",
    "    counter=counter+1\n"
   ]
  },
  {
   "cell_type": "markdown",
   "id": "8ca2e1b6-304a-4230-be64-3cd73d96a9b8",
   "metadata": {},
   "source": [
    "reversing a string"
   ]
  },
  {
   "cell_type": "code",
   "execution_count": null,
   "id": "481718eb-86be-408b-9ba0-c5d2702bebad",
   "metadata": {},
   "outputs": [],
   "source": [
    "word=input('enter a string for revering:')\n",
    "reversal=''\n",
    "length=len(word)\n",
    "while length>0:\n",
    "    reverseal=reversal+word[length-1]\n",
    "    length=length-1\n",
    "print(reverse)\n",
    "    \n",
    "    \n",
    "    \n",
    "           "
   ]
  },
  {
   "cell_type": "markdown",
   "id": "8f58a1bd-a411-4c62-8f63-e58eb1beced1",
   "metadata": {},
   "source": [
    "#table"
   ]
  },
  {
   "cell_type": "code",
   "execution_count": null,
   "id": "9de0e582-c033-4c4b-8a30-657a286705d7",
   "metadata": {},
   "outputs": [],
   "source": [
    "n=int(input(\"enter a no.\"))\n",
    "i=1\n",
    "while i<=10:\n",
    "    result=n*i\n",
    "    print(n,'*',i,'=',result)\n",
    "    i=i+1\n"
   ]
  },
  {
   "cell_type": "markdown",
   "id": "7a84ab39-253a-4966-9950-5412abc6fd4c",
   "metadata": {},
   "source": [
    "in while-else loop...else will only excute if while completely executed"
   ]
  },
  {
   "cell_type": "code",
   "execution_count": null,
   "id": "23d2a410-e7b9-4db7-bc4b-e6d54da523e9",
   "metadata": {},
   "outputs": [],
   "source": [
    "#comprehension"
   ]
  },
  {
   "cell_type": "code",
   "execution_count": null,
   "id": "52c60a4e-5136-44b2-b122-131bea1b54a0",
   "metadata": {},
   "outputs": [],
   "source": [
    "l=[1,2,3,4,5]\n",
    "l1=[]\n",
    "for i in l:\n",
    "    l1.append(i**2)\n",
    "    "
   ]
  },
  {
   "cell_type": "code",
   "execution_count": null,
   "id": "04a95543-f30c-41d8-84c7-1b38fc80c2a2",
   "metadata": {},
   "outputs": [],
   "source": [
    "#using comprehension\n",
    "[i**2 for i in range l]"
   ]
  },
  {
   "cell_type": "code",
   "execution_count": null,
   "id": "ceb5d6c7-10c0-4865-b770-4f3fe41c24b9",
   "metadata": {},
   "outputs": [],
   "source": [
    "[i for i in range if i%2==0]"
   ]
  },
  {
   "cell_type": "code",
   "execution_count": null,
   "id": "c4b1b5fd-be61-4663-b463-8c3f4b45190b",
   "metadata": {},
   "outputs": [],
   "source": [
    "l2=['khushi','sehaj']"
   ]
  },
  {
   "cell_type": "code",
   "execution_count": null,
   "id": "8fabe0e8-533f-47c6-8d23-45ee2a98a52b",
   "metadata": {},
   "outputs": [],
   "source": [
    "[i.upper() for i in range l2]"
   ]
  },
  {
   "cell_type": "code",
   "execution_count": null,
   "id": "f740f4db-17a6-4313-b4b6-677e55577361",
   "metadata": {},
   "outputs": [],
   "source": [
    "d={'key1':1,'key2':2,'key3':3}\n"
   ]
  },
  {
   "cell_type": "code",
   "execution_count": null,
   "id": "9375e1c8-b4b4-4830-bc13-96a2920f1e62",
   "metadata": {},
   "outputs": [],
   "source": [
    "{k:v**2 for k,v in d.items()}"
   ]
  },
  {
   "cell_type": "code",
   "execution_count": null,
   "id": "fca3f409-9627-44d2-8f80-f9cccc44bab3",
   "metadata": {},
   "outputs": [],
   "source": [
    "{k:v for k,v in d.items() if v>1}"
   ]
  },
  {
   "cell_type": "code",
   "execution_count": null,
   "id": "f34299bd-bb60-4e68-bc50-b5f0d749c28a",
   "metadata": {},
   "outputs": [],
   "source": []
  }
 ],
 "metadata": {
  "kernelspec": {
   "display_name": "Python 3 (ipykernel)",
   "language": "python",
   "name": "python3"
  },
  "language_info": {
   "codemirror_mode": {
    "name": "ipython",
    "version": 3
   },
   "file_extension": ".py",
   "mimetype": "text/x-python",
   "name": "python",
   "nbconvert_exporter": "python",
   "pygments_lexer": "ipython3",
   "version": "3.10.6"
  }
 },
 "nbformat": 4,
 "nbformat_minor": 5
}
